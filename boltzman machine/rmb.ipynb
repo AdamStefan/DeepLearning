{
 "cells": [
  {
   "cell_type": "code",
   "execution_count": 1,
   "metadata": {
    "collapsed": false
   },
   "outputs": [
    {
     "name": "stdout",
     "output_type": "stream",
     "text": [
      "Extracting MNIST_data\\train-images-idx3-ubyte.gz\n",
      "Extracting MNIST_data\\train-labels-idx1-ubyte.gz\n",
      "Extracting MNIST_data\\t10k-images-idx3-ubyte.gz\n",
      "Extracting MNIST_data\\t10k-labels-idx1-ubyte.gz\n"
     ]
    }
   ],
   "source": [
    "import tensorflow as tf\n",
    "import os\n",
    "import numpy as np\n",
    "import numpy.random as random_gen\n",
    "from tensorflow.examples.tutorials.mnist import input_data\n",
    "import matplotlib.pyplot as plt\n",
    "import time\n",
    "import model.rbm as rbm\n",
    "\n",
    "#Load mnist data\n",
    "mnist = input_data.read_data_sets('MNIST_data', one_hot = True)\n",
    "mnist_train = mnist.train"
   ]
  },
  {
   "cell_type": "code",
   "execution_count": 2,
   "metadata": {
    "collapsed": false
   },
   "outputs": [],
   "source": [
    "#create the rbm machine. Keep in mind that mnist image inputs are 28 * 28 = 784\n",
    "restricted_boltzman_machine_model = rbm.restricted_boltzman_machine(n_visible = 784, n_hidden = 64)"
   ]
  },
  {
   "cell_type": "markdown",
   "metadata": {},
   "source": [
    "# Compute reconstruction error and update rule for weights and bias\n",
    " Positive divergence: $\\mathbf{v_0^T \\times p(h_0|v_0)}$\n",
    " \n",
    " Sample hidden states from: $\\mathbf{h_0 \\sim p(h_0|v_0)}$\n",
    " \n",
    " Reconstruct visible units: $\\mathbf{v_s \\sim p(v_{s})=p(v_1|h_0)}$\n",
    " \n",
    " Negative divergence: $\\mathbf{p(v_{s})^T \\times p(h_1|v_s)}$\n",
    " \n",
    " $w_{new} = w_{old} + \\epsilon *$ (positive divergence - negative divergence)\n",
    " \n",
    " $vb_{new} = vb_{old} + \\epsilon * (v_0 - p(v_s))$\n",
    " \n",
    " $vb_{new} = vb_{old} + \\epsilon * (p(h_0) - p(h_1))$"
   ]
  },
  {
   "cell_type": "code",
   "execution_count": 3,
   "metadata": {
    "collapsed": false
   },
   "outputs": [],
   "source": [
    "rec_error, update = restricted_boltzman_machine_model.compute_rec_error_and_update(learning_rate = tf.constant(0.1,tf.float32))"
   ]
  },
  {
   "cell_type": "markdown",
   "metadata": {},
   "source": [
    "# Start training using stochastic gradient descent"
   ]
  },
  {
   "cell_type": "code",
   "execution_count": 4,
   "metadata": {
    "collapsed": false
   },
   "outputs": [
    {
     "name": "stdout",
     "output_type": "stream",
     "text": [
      "Reconstruction error at step 0: [0.30153662]\n",
      "Reconstruction error at step 500: [0.032487351]\n",
      "Reconstruction error at step 1000: [0.028414752]\n",
      "Reconstruction error at step 1500: [0.027104087]\n"
     ]
    }
   ],
   "source": [
    "#start session\n",
    "sess = tf.InteractiveSession()\n",
    "\n",
    "# Merge summaries for Tensorboard\n",
    "summary = tf.summary.merge_all()\n",
    "path_test = os.getcwd()  + '/RBM_logs/MNIST_Bernoulli'\n",
    "test_writer = tf.summary.FileWriter(path_test,sess.graph)\n",
    "\n",
    "#init variables\n",
    "sess.run(tf.global_variables_initializer())\n",
    "\n",
    "steps = 2000\n",
    "start_time = time.time()\n",
    "##### Start of training ######\n",
    "##### -----------------#######\n",
    "for step in range(steps):\n",
    "    #if step % 30 == 0: \n",
    "        #sess.run(reinit)\n",
    "    if step % 500 == 0:\n",
    "        feed={restricted_boltzman_machine_model.v: mnist.test.images}\n",
    "        result = sess.run([rec_error,summary],feed_dict=feed)\n",
    "        acc = result[0]\n",
    "        test_writer.add_summary(result[1],step)\n",
    "        print(\"Reconstruction error at step %s: %s\" % (step, acc))\n",
    "        #err[step] = sess.run(total_err)\n",
    "        #print(\"Absolute gradient estimate of log-likelihood on epoch %s is %s\" %(step,np.abs(err[step])))\n",
    "    else: \n",
    "        batchXs, batchYs = mnist.train.next_batch(10)\n",
    "        feed={restricted_boltzman_machine_model.v: batchXs}\n",
    "        result = sess.run([update], feed_dict = feed)    \n",
    "        # Print log-likelihood to visualize how it decreases \n",
    "    \n",
    "##### --------------- ######        \n",
    "##### End of Training ######\n",
    "\n"
   ]
  },
  {
   "cell_type": "code",
   "execution_count": 5,
   "metadata": {
    "collapsed": false
   },
   "outputs": [
    {
     "ename": "NameError",
     "evalue": "name 'test_image' is not defined",
     "output_type": "error",
     "traceback": [
      "\u001b[0;31m---------------------------------------------------------------------------\u001b[0m",
      "\u001b[0;31mNameError\u001b[0m                                 Traceback (most recent call last)",
      "\u001b[0;32m<ipython-input-5-cf9093391bf4>\u001b[0m in \u001b[0;36m<module>\u001b[0;34m()\u001b[0m\n\u001b[1;32m     14\u001b[0m \u001b[0msample_test1\u001b[0m \u001b[1;33m=\u001b[0m \u001b[0mrestricted_boltzman_machine_model\u001b[0m\u001b[1;33m.\u001b[0m\u001b[0mgibbs\u001b[0m\u001b[1;33m(\u001b[0m\u001b[1;36m1\u001b[0m\u001b[1;33m)\u001b[0m\u001b[1;33m.\u001b[0m\u001b[0meval\u001b[0m\u001b[1;33m(\u001b[0m\u001b[0msession\u001b[0m\u001b[1;33m=\u001b[0m\u001b[0msess\u001b[0m\u001b[1;33m,\u001b[0m \u001b[0mfeed_dict\u001b[0m\u001b[1;33m=\u001b[0m\u001b[1;33m{\u001b[0m\u001b[0mrestricted_boltzman_machine_model\u001b[0m\u001b[1;33m.\u001b[0m\u001b[0mv\u001b[0m\u001b[1;33m:\u001b[0m \u001b[0mtest_image_test1\u001b[0m\u001b[1;33m.\u001b[0m\u001b[0mreshape\u001b[0m\u001b[1;33m(\u001b[0m\u001b[1;36m1\u001b[0m\u001b[1;33m,\u001b[0m\u001b[1;33m-\u001b[0m\u001b[1;36m1\u001b[0m\u001b[1;33m)\u001b[0m\u001b[1;33m.\u001b[0m\u001b[0mastype\u001b[0m\u001b[1;33m(\u001b[0m\u001b[0mnp\u001b[0m\u001b[1;33m.\u001b[0m\u001b[0mfloat32\u001b[0m\u001b[1;33m)\u001b[0m\u001b[1;33m}\u001b[0m\u001b[1;33m)\u001b[0m\u001b[1;33m\u001b[0m\u001b[0m\n\u001b[1;32m     15\u001b[0m \u001b[1;33m\u001b[0m\u001b[0m\n\u001b[0;32m---> 16\u001b[0;31m \u001b[0mshow_digit\u001b[0m\u001b[1;33m(\u001b[0m\u001b[0mtest_image\u001b[0m\u001b[1;33m)\u001b[0m\u001b[1;33m\u001b[0m\u001b[0m\n\u001b[0m\u001b[1;32m     17\u001b[0m \u001b[0mshow_digit\u001b[0m\u001b[1;33m(\u001b[0m\u001b[0msample\u001b[0m\u001b[1;33m)\u001b[0m\u001b[1;33m\u001b[0m\u001b[0m\n\u001b[1;32m     18\u001b[0m \u001b[1;33m\u001b[0m\u001b[0m\n",
      "\u001b[0;31mNameError\u001b[0m: name 'test_image' is not defined"
     ]
    }
   ],
   "source": [
    "##### Testing ##### \n",
    "# Testing the RBM for one sample step after learning the weights        \n",
    "first_image = 1\n",
    "test_image_train = mnist_train.images[first_image] #train\n",
    "test_image_test = mnist.test.images[first_image] #test\n",
    "test_image_test1 = mnist.test.images[first_image+4] #test\n",
    "\n",
    "def show_digit(x):\n",
    "    plt.imshow(x.reshape((28,28)),cmap = plt.cm.gray)\n",
    "    plt.show()\n",
    "\n",
    "sample = restricted_boltzman_machine_model.gibbs(1).eval(session=sess, feed_dict={restricted_boltzman_machine_model.v: test_image_train.reshape(1,-1).astype(np.float32)})    \n",
    "sample_test = restricted_boltzman_machine_model.gibbs(1).eval(session=sess, feed_dict={restricted_boltzman_machine_model.v: test_image_test.reshape(1,-1).astype(np.float32)})    \n",
    "sample_test1 = restricted_boltzman_machine_model.gibbs(1).eval(session=sess, feed_dict={restricted_boltzman_machine_model.v: test_image_test1.reshape(1,-1).astype(np.float32)})    \n",
    "\n",
    "show_digit(test_image)\n",
    "show_digit(sample)\n",
    "\n",
    "show_digit(test_image_test)\n",
    "show_digit(sample_test)\n",
    "\n",
    "show_digit(test_image_test1)\n",
    "show_digit(sample_test1)\n",
    "tf.reset_default_graph()"
   ]
  },
  {
   "cell_type": "code",
   "execution_count": null,
   "metadata": {
    "collapsed": true
   },
   "outputs": [],
   "source": []
  }
 ],
 "metadata": {
  "anaconda-cloud": {},
  "kernelspec": {
   "display_name": "Python [conda root]",
   "language": "python",
   "name": "conda-root-py"
  },
  "language_info": {
   "codemirror_mode": {
    "name": "ipython",
    "version": 3
   },
   "file_extension": ".py",
   "mimetype": "text/x-python",
   "name": "python",
   "nbconvert_exporter": "python",
   "pygments_lexer": "ipython3",
   "version": "3.5.2"
  }
 },
 "nbformat": 4,
 "nbformat_minor": 1
}
