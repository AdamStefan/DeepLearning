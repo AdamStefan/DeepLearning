{
 "cells": [
  {
   "cell_type": "markdown",
   "metadata": {},
   "source": [
    "# Softmax exercise\n",
    "\n",
    "*Complete and hand in this completed worksheet (including its outputs and any supporting code outside of the worksheet) with your assignment submission. For more details see the [assignments page](http://vision.stanford.edu/teaching/cs231n/assignments.html) on the course website.*\n",
    "\n",
    "This exercise is analogous to the SVM exercise. You will:\n",
    "\n",
    "- implement a fully-vectorized **loss function** for the Softmax classifier\n",
    "- implement the fully-vectorized expression for its **analytic gradient**\n",
    "- **check your implementation** with numerical gradient\n",
    "- use a validation set to **tune the learning rate and regularization** strength\n",
    "- **optimize** the loss function with **SGD**\n",
    "- **visualize** the final learned weights\n"
   ]
  },
  {
   "cell_type": "code",
   "execution_count": 2,
   "metadata": {
    "collapsed": false
   },
   "outputs": [
    {
     "name": "stdout",
     "output_type": "stream",
     "text": [
      "The autoreload extension is already loaded. To reload it, use:\n",
      "  %reload_ext autoreload\n"
     ]
    }
   ],
   "source": [
    "import random\n",
    "import numpy as np\n",
    "from cs231n.data_utils import load_CIFAR10\n",
    "import matplotlib.pyplot as plt\n",
    "%matplotlib inline\n",
    "plt.rcParams['figure.figsize'] = (10.0, 8.0) # set default size of plots\n",
    "plt.rcParams['image.interpolation'] = 'nearest'\n",
    "plt.rcParams['image.cmap'] = 'gray'\n",
    "\n",
    "# for auto-reloading extenrnal modules\n",
    "# see http://stackoverflow.com/questions/1907993/autoreload-of-modules-in-ipython\n",
    "%load_ext autoreload\n",
    "%autoreload 2"
   ]
  },
  {
   "cell_type": "code",
   "execution_count": 3,
   "metadata": {
    "collapsed": false
   },
   "outputs": [
    {
     "name": "stdout",
     "output_type": "stream",
     "text": [
      "Train data shape:  (49000, 3073)\n",
      "Train labels shape:  (49000,)\n",
      "Validation data shape:  (1000, 3073)\n",
      "Validation labels shape:  (1000,)\n",
      "Test data shape:  (1000, 3073)\n",
      "Test labels shape:  (1000,)\n",
      "dev data shape:  (500, 3073)\n",
      "dev labels shape:  (500,)\n"
     ]
    }
   ],
   "source": [
    "def get_CIFAR10_data(num_training=49000, num_validation=1000, num_test=1000, num_dev=500):\n",
    "  \"\"\"\n",
    "  Load the CIFAR-10 dataset from disk and perform preprocessing to prepare\n",
    "  it for the linear classifier. These are the same steps as we used for the\n",
    "  SVM, but condensed to a single function.  \n",
    "  \"\"\"\n",
    "  # Load the raw CIFAR-10 data\n",
    "  cifar10_dir = 'cs231n/datasets/cifar-10-batches-py'\n",
    "  X_train, y_train, X_test, y_test = load_CIFAR10(cifar10_dir)\n",
    "  \n",
    "  # subsample the data\n",
    "  mask = range(num_training, num_training + num_validation)\n",
    "  X_val = X_train[mask]\n",
    "  y_val = y_train[mask]\n",
    "  mask = range(num_training)\n",
    "  X_train = X_train[mask]\n",
    "  y_train = y_train[mask]\n",
    "  mask = range(num_test)\n",
    "  X_test = X_test[mask]\n",
    "  y_test = y_test[mask]\n",
    "  mask = np.random.choice(num_training, num_dev, replace=False)\n",
    "  X_dev = X_train[mask]\n",
    "  y_dev = y_train[mask]\n",
    "  \n",
    "  # Preprocessing: reshape the image data into rows\n",
    "  X_train = np.reshape(X_train, (X_train.shape[0], -1))\n",
    "  X_val = np.reshape(X_val, (X_val.shape[0], -1))\n",
    "  X_test = np.reshape(X_test, (X_test.shape[0], -1))\n",
    "  X_dev = np.reshape(X_dev, (X_dev.shape[0], -1))\n",
    "  \n",
    "  # Normalize the data: subtract the mean image\n",
    "  mean_image = np.mean(X_train, axis = 0)\n",
    "  X_train -= mean_image\n",
    "  X_val -= mean_image\n",
    "  X_test -= mean_image\n",
    "  X_dev -= mean_image\n",
    "  \n",
    "  # add bias dimension and transform into columns\n",
    "  X_train = np.hstack([X_train, np.ones((X_train.shape[0], 1))])\n",
    "  X_val = np.hstack([X_val, np.ones((X_val.shape[0], 1))])\n",
    "  X_test = np.hstack([X_test, np.ones((X_test.shape[0], 1))])\n",
    "  X_dev = np.hstack([X_dev, np.ones((X_dev.shape[0], 1))])\n",
    "  \n",
    "  return X_train, y_train, X_val, y_val, X_test, y_test, X_dev, y_dev\n",
    "\n",
    "\n",
    "# Invoke the above function to get our data.\n",
    "X_train, y_train, X_val, y_val, X_test, y_test, X_dev, y_dev = get_CIFAR10_data()\n",
    "print ('Train data shape: ', X_train.shape)\n",
    "print ('Train labels shape: ', y_train.shape)\n",
    "print ('Validation data shape: ', X_val.shape)\n",
    "print ('Validation labels shape: ', y_val.shape)\n",
    "print ('Test data shape: ', X_test.shape)\n",
    "print ('Test labels shape: ', y_test.shape)\n",
    "print ('dev data shape: ', X_dev.shape)\n",
    "print ('dev labels shape: ', y_dev.shape)"
   ]
  },
  {
   "cell_type": "markdown",
   "metadata": {},
   "source": [
    "## Softmax Classifier\n",
    "\n",
    "Your code for this section will all be written inside **cs231n/classifiers/softmax.py**. \n"
   ]
  },
  {
   "cell_type": "code",
   "execution_count": 5,
   "metadata": {
    "collapsed": false
   },
   "outputs": [
    {
     "name": "stdout",
     "output_type": "stream",
     "text": [
      "loss: 2.344697\n",
      "sanity check: 2.302585\n"
     ]
    }
   ],
   "source": [
    "# First implement the naive softmax loss function with nested loops.\n",
    "# Open the file cs231n/classifiers/softmax.py and implement the\n",
    "# softmax_loss_naive function.\n",
    "\n",
    "from cs231n.classifiers.softmax import softmax_loss_naive\n",
    "import time\n",
    "\n",
    "# Generate a random softmax weight matrix and use it to compute the loss.\n",
    "W = np.random.randn(3073, 10) * 0.0001\n",
    "loss, grad = softmax_loss_naive(W, X_dev, y_dev, 0.0)\n",
    "\n",
    "# As a rough sanity check, our loss should be something close to -log(0.1).\n",
    "print ('loss: %f' % loss)\n",
    "print ('sanity check: %f' % (-np.log(0.1)))"
   ]
  },
  {
   "cell_type": "markdown",
   "metadata": {},
   "source": [
    "## Inline Question 1:\n",
    "Why do we expect our loss to be close to -log(0.1)? Explain briefly.**\n",
    "\n",
    "Initially all have images images have approx. equal probability to be on a particular class. There are 10 classes so the probability for each class is 0.1. The loss  is approx. equal with -log(0.1)\n"
   ]
  },
  {
   "cell_type": "code",
   "execution_count": 6,
   "metadata": {
    "collapsed": false
   },
   "outputs": [
    {
     "name": "stdout",
     "output_type": "stream",
     "text": [
      "numerical: -1.813594 analytic: -1.813594, relative error: 1.364505e-08\n",
      "numerical: -2.522170 analytic: -2.522170, relative error: 1.560190e-08\n",
      "numerical: -2.701976 analytic: -2.701976, relative error: 1.897753e-08\n",
      "numerical: 1.937035 analytic: 1.937035, relative error: 1.214709e-08\n",
      "numerical: -1.910155 analytic: -1.910155, relative error: 1.562603e-08\n",
      "numerical: 1.146589 analytic: 1.146589, relative error: 6.233548e-08\n",
      "numerical: -0.914341 analytic: -0.914341, relative error: 9.862531e-09\n",
      "numerical: -0.423833 analytic: -0.423833, relative error: 1.434458e-09\n",
      "numerical: 2.450726 analytic: 2.450726, relative error: 1.370612e-08\n",
      "numerical: -0.783731 analytic: -0.783731, relative error: 7.517183e-08\n",
      "numerical: -1.451031 analytic: -1.451031, relative error: 1.065508e-08\n",
      "numerical: -1.161488 analytic: -1.161488, relative error: 1.647476e-08\n",
      "numerical: 3.951302 analytic: 3.951302, relative error: 2.007582e-08\n",
      "numerical: -3.370265 analytic: -3.370265, relative error: 4.300956e-09\n",
      "numerical: -2.027969 analytic: -2.027969, relative error: 2.321626e-08\n",
      "numerical: 0.418365 analytic: 0.418365, relative error: 3.384731e-08\n",
      "numerical: 0.994342 analytic: 0.994342, relative error: 1.731286e-08\n",
      "numerical: -0.757471 analytic: -0.757471, relative error: 4.651910e-08\n",
      "numerical: 0.069012 analytic: 0.069012, relative error: 4.136947e-07\n",
      "numerical: 0.317309 analytic: 0.317309, relative error: 1.607734e-07\n"
     ]
    }
   ],
   "source": [
    "# Complete the implementation of softmax_loss_naive and implement a (naive)\n",
    "# version of the gradient that uses nested loops.\n",
    "loss, grad = softmax_loss_naive(W, X_dev, y_dev, 0.0)\n",
    "\n",
    "# As we did for the SVM, use numeric gradient checking as a debugging tool.\n",
    "# The numeric gradient should be close to the analytic gradient.\n",
    "from cs231n.gradient_check import grad_check_sparse\n",
    "f = lambda w: softmax_loss_naive(w, X_dev, y_dev, 0.0)[0]\n",
    "grad_numerical = grad_check_sparse(f, W, grad, 10)\n",
    "\n",
    "# similar to SVM case, do another gradient check with regularization\n",
    "loss, grad = softmax_loss_naive(W, X_dev, y_dev, 1e2)\n",
    "f = lambda w: softmax_loss_naive(w, X_dev, y_dev, 1e2)[0]\n",
    "grad_numerical = grad_check_sparse(f, W, grad, 10)"
   ]
  },
  {
   "cell_type": "code",
   "execution_count": 57,
   "metadata": {
    "collapsed": false
   },
   "outputs": [
    {
     "name": "stdout",
     "output_type": "stream",
     "text": [
      "naive loss: 2.344697e+00 computed in 0.315439s\n",
      "(3073, 10)\n",
      "(500, 1)\n",
      "vectorized loss: 2.344697e+00 computed in 0.302803s\n",
      "Loss difference: 0.000000\n",
      "Gradient difference: 0.000000\n"
     ]
    }
   ],
   "source": [
    "# Now that we have a naive implementation of the softmax loss function and its gradient,\n",
    "# implement a vectorized version in softmax_loss_vectorized.\n",
    "# The two versions should compute the same results, but the vectorized version should be\n",
    "# much faster.\n",
    "tic = time.time()\n",
    "loss_naive, grad_naive = softmax_loss_naive(W, X_dev, y_dev, 0.00001)\n",
    "toc = time.time()\n",
    "print ('naive loss: %e computed in %fs' % (loss_naive, toc - tic))\n",
    "\n",
    "from cs231n.classifiers.softmax import softmax_loss_vectorized\n",
    "tic = time.time()\n",
    "loss_vectorized, grad_vectorized = softmax_loss_vectorized(W, X_dev, y_dev, 0.00001)\n",
    "toc = time.time()\n",
    "print ('vectorized loss: %e computed in %fs' % (loss_vectorized, toc - tic))\n",
    "\n",
    "# As we did for the SVM, we use the Frobenius norm to compare the two versions\n",
    "# of the gradient.\n",
    "grad_difference = np.linalg.norm(grad_naive - grad_vectorized, ord='fro')\n",
    "print ('Loss difference: %f' % np.abs(loss_naive - loss_vectorized))\n",
    "print ('Gradient difference: %f' % grad_difference)"
   ]
  },
  {
   "cell_type": "code",
   "execution_count": 49,
   "metadata": {
    "collapsed": false
   },
   "outputs": [
    {
     "name": "stdout",
     "output_type": "stream",
     "text": [
      "1e-07 50000.0\n",
      "iteration 0 / 1200: loss 779.235659\n",
      "iteration 100 / 1200: loss 285.817244\n",
      "iteration 200 / 1200: loss 105.782132\n",
      "iteration 300 / 1200: loss 40.014890\n",
      "iteration 400 / 1200: loss 16.021607\n",
      "iteration 500 / 1200: loss 7.166646\n",
      "iteration 600 / 1200: loss 3.966501\n",
      "iteration 700 / 1200: loss 2.841040\n",
      "iteration 800 / 1200: loss 2.345793\n",
      "iteration 900 / 1200: loss 2.123319\n",
      "iteration 1000 / 1200: loss 2.115085\n",
      "iteration 1100 / 1200: loss 2.105488\n",
      "1e-07 500000.0\n",
      "iteration 0 / 1200: loss 7620.166088\n",
      "iteration 100 / 1200: loss 2.520223\n",
      "iteration 200 / 1200: loss 2.245766\n",
      "iteration 300 / 1200: loss 2.255734\n",
      "iteration 400 / 1200: loss 2.235741\n",
      "iteration 500 / 1200: loss 2.262840\n",
      "iteration 600 / 1200: loss 2.224538\n",
      "iteration 700 / 1200: loss 2.239022\n",
      "iteration 800 / 1200: loss 2.233214\n",
      "iteration 900 / 1200: loss 2.246877\n",
      "iteration 1000 / 1200: loss 2.244027\n",
      "iteration 1100 / 1200: loss 2.235058\n",
      "5e-07 50000.0\n",
      "iteration 0 / 1200: loss 759.998057\n",
      "iteration 100 / 1200: loss 6.776886\n",
      "iteration 200 / 1200: loss 2.080017\n",
      "iteration 300 / 1200: loss 2.067917\n",
      "iteration 400 / 1200: loss 2.154079\n",
      "iteration 500 / 1200: loss 2.077362\n",
      "iteration 600 / 1200: loss 2.062781\n",
      "iteration 700 / 1200: loss 2.134005\n",
      "iteration 800 / 1200: loss 2.032128\n",
      "iteration 900 / 1200: loss 2.041686\n",
      "iteration 1000 / 1200: loss 2.034811\n",
      "iteration 1100 / 1200: loss 2.050860\n",
      "5e-07 500000.0\n",
      "iteration 0 / 1200: loss 7706.577989\n",
      "iteration 100 / 1200: loss 2.266762\n",
      "iteration 200 / 1200: loss 2.229746\n",
      "iteration 300 / 1200: loss 2.251809\n",
      "iteration 400 / 1200: loss 2.244440\n",
      "iteration 500 / 1200: loss 2.244199\n",
      "iteration 600 / 1200: loss 2.245261\n",
      "iteration 700 / 1200: loss 2.248551\n",
      "iteration 800 / 1200: loss 2.237882\n",
      "iteration 900 / 1200: loss 2.254551\n",
      "iteration 1000 / 1200: loss 2.241601\n",
      "iteration 1100 / 1200: loss 2.259789\n",
      "lr 1.000000e-07 reg 5.000000e+04 train accuracy: 0.327082 val accuracy: 0.339000\n",
      "lr 1.000000e-07 reg 5.000000e+05 train accuracy: 0.269122 val accuracy: 0.279000\n",
      "lr 5.000000e-07 reg 5.000000e+04 train accuracy: 0.324592 val accuracy: 0.340000\n",
      "lr 5.000000e-07 reg 5.000000e+05 train accuracy: 0.270918 val accuracy: 0.284000\n",
      "best validation accuracy achieved during cross-validation: 0.340000\n"
     ]
    }
   ],
   "source": [
    "# Use the validation set to tune hyperparameters (regularization strength and\n",
    "# learning rate). You should experiment with different ranges for the learning\n",
    "# rates and regularization strengths; if you are careful you should be able to\n",
    "# get a classification accuracy of over 0.35 on the validation set.\n",
    "from cs231n.classifiers import Softmax\n",
    "results = {}\n",
    "best_val = -1\n",
    "best_softmax = None\n",
    "learning_rates = [1e-7, 5e-7]\n",
    "regularization_strengths = [5e4, 5e5]\n",
    "\n",
    "\n",
    "\n",
    "for idx,l_rate in enumerate(learning_rates):\n",
    "    for idxReg,regularization_strength in enumerate(regularization_strengths):\n",
    "        softMax = Softmax()\n",
    "        print(l_rate,regularization_strength)\n",
    "        loss_hist = softMax.train(X_train, y_train, learning_rate=l_rate, reg=regularization_strength,\n",
    "                      num_iters=1200, verbose=True)\n",
    "        y_train_pred = softMax.predict(X_train)\n",
    "        y_val_pred = softMax.predict(X_val)\n",
    "        \n",
    "        train_accuracy = np.mean(y_train == y_train_pred)\n",
    "        validation_accuracy = np.mean(y_val == y_val_pred)\n",
    "        key = (l_rate,regularization_strength)\n",
    "        value = (train_accuracy,validation_accuracy)\n",
    "        results[key] = value\n",
    "        if (validation_accuracy>best_val):\n",
    "            best_val = validation_accuracy\n",
    "            best_softmax = softMax\n",
    "\n",
    "    \n",
    "# Print out results.\n",
    "for lr, reg in sorted(results):\n",
    "    train_accuracy, val_accuracy = results[(lr, reg)]\n",
    "    print ('lr %e reg %e train accuracy: %f val accuracy: %f' % (\n",
    "                lr, reg, train_accuracy, val_accuracy))\n",
    "    \n",
    "print ('best validation accuracy achieved during cross-validation: %f' % best_val)"
   ]
  },
  {
   "cell_type": "code",
   "execution_count": 50,
   "metadata": {
    "collapsed": false
   },
   "outputs": [
    {
     "name": "stdout",
     "output_type": "stream",
     "text": [
      "softmax on raw pixels final test set accuracy: 0.333000\n"
     ]
    }
   ],
   "source": [
    "# evaluate on test set\n",
    "# Evaluate the best softmax on test set\n",
    "y_test_pred = best_softmax.predict(X_test)\n",
    "test_accuracy = np.mean(y_test == y_test_pred)\n",
    "print ('softmax on raw pixels final test set accuracy: %f' % (test_accuracy, ))"
   ]
  },
  {
   "cell_type": "code",
   "execution_count": 51,
   "metadata": {
    "collapsed": false
   },
   "outputs": [
    {
     "data": {
      "image/png": "[encoded data removed]",
      "text/plain": [
       "<matplotlib.figure.Figure at 0x51236fbfd0>"
      ]
     },
     "metadata": {},
     "output_type": "display_data"
    }
   ],
   "source": [
    "# Visualize the learned weights for each class\n",
    "w = best_softmax.W[:-1,:] # strip out the bias\n",
    "w = w.reshape(32, 32, 3, 10)\n",
    "\n",
    "w_min, w_max = np.min(w), np.max(w)\n",
    "\n",
    "classes = ['plane', 'car', 'bird', 'cat', 'deer', 'dog', 'frog', 'horse', 'ship', 'truck']\n",
    "for i in range(10):\n",
    "  plt.subplot(2, 5, i + 1)\n",
    "  \n",
    "  # Rescale the weights to be between 0 and 255\n",
    "  wimg = 255.0 * (w[:, :, :, i].squeeze() - w_min) / (w_max - w_min)\n",
    "  plt.imshow(wimg.astype('uint8'))\n",
    "  plt.axis('off')\n",
    "  plt.title(classes[i])"
   ]
  },
  {
   "cell_type": "code",
   "execution_count": null,
   "metadata": {
    "collapsed": true
   },
   "outputs": [],
   "source": []
  }
 ],
 "metadata": {
  "kernelspec": {
   "display_name": "Python 3",
   "language": "python",
   "name": "python3"
  },
  "language_info": {
   "codemirror_mode": {
    "name": "ipython",
    "version": 3
   },
   "file_extension": ".py",
   "mimetype": "text/x-python",
   "name": "python",
   "nbconvert_exporter": "python",
   "pygments_lexer": "ipython3",
   "version": "3.5.1"
  }
 },
 "nbformat": 4,
 "nbformat_minor": 0
}
